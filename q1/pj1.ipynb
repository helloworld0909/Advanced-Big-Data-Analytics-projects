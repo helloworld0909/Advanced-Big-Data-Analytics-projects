{
 "cells": [
  {
   "cell_type": "code",
   "execution_count": 1,
   "metadata": {
    "collapsed": true
   },
   "outputs": [],
   "source": [
    "from pyspark import SparkContext, SparkConf\n",
    "conf = SparkConf().setAppName('q1')\n",
    "sc = SparkContext(conf=conf)"
   ]
  },
  {
   "cell_type": "code",
   "execution_count": 11,
   "metadata": {
    "collapsed": true
   },
   "outputs": [],
   "source": [
    "import csv\n",
    "import numpy as np\n",
    "from elephas.utils.rdd_utils import to_simple_rdd"
   ]
  },
  {
   "cell_type": "code",
   "execution_count": 21,
   "metadata": {},
   "outputs": [],
   "source": [
    "fn = open('training.csv', 'r')\n",
    "trainFile = fn.readlines()\n",
    "attrName = dict(enumerate(trainFile[0].strip().split(',')))\n",
    "trainData = []\n",
    "trainImage = []\n",
    "for line in trainFile[1:]:\n",
    "    labels = line.strip().split(',')[:-1]\n",
    "    labelTuple = []\n",
    "    image = map(int, line.strip().split(',')[-1].split(' '))\n",
    "    for label in labels:\n",
    "        try:\n",
    "            labelTuple.append(float(label))\n",
    "        except:\n",
    "            labelTuple.append(None)\n",
    "    trainData.append(labelTuple)\n",
    "    trainImage.append(image)\n",
    "\n",
    "X_train = np.array(trainImage, dtype='int32')\n",
    "Y_train = np.array(trainData, dtype='float64')"
   ]
  },
  {
   "cell_type": "code",
   "execution_count": 22,
   "metadata": {},
   "outputs": [],
   "source": [
    "rdd = to_simple_rdd(sc, X_train, Y_train)"
   ]
  },
  {
   "cell_type": "code",
   "execution_count": null,
   "metadata": {},
   "outputs": [],
   "source": []
  },
  {
   "cell_type": "code",
   "execution_count": null,
   "metadata": {
    "collapsed": true
   },
   "outputs": [],
   "source": []
  }
 ],
 "metadata": {
  "kernelspec": {
   "display_name": "PySpark",
   "language": "python",
   "name": "spark"
  },
  "language_info": {
   "codemirror_mode": {
    "name": "ipython",
    "version": 2
   },
   "file_extension": ".py",
   "mimetype": "text/x-python",
   "name": "python",
   "nbconvert_exporter": "python",
   "pygments_lexer": "ipython2",
   "version": "2.7.12"
  }
 },
 "nbformat": 4,
 "nbformat_minor": 1
}
